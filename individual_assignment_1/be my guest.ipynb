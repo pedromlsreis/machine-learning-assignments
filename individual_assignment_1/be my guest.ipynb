{
 "cells": [
  {
   "cell_type": "code",
   "execution_count": 1,
   "metadata": {},
   "outputs": [],
   "source": [
    "import os\n",
    "from datetime import datetime\n",
    "import numpy as np\n",
    "import pandas as pd\n",
    "import pandas_profiling\n",
    "from sklearn.preprocessing import StandardScaler, LabelEncoder\n",
    "from sklearn.neural_network  import MLPClassifier\n",
    "from sklearn.metrics import make_scorer, accuracy_score\n",
    "from sklearn.model_selection import GridSearchCV"
   ]
  },
  {
   "cell_type": "code",
   "execution_count": 3,
   "metadata": {},
   "outputs": [],
   "source": [
    "input_folder = \"./data\"\n",
    "output_folder = \"./results\"\n",
    "profiles_folder = \"./profiles\""
   ]
  },
  {
   "cell_type": "code",
   "execution_count": 4,
   "metadata": {},
   "outputs": [],
   "source": [
    "### CONFIG, CHANGE HERE ###\n",
    "eda = True\n",
    "exploration = False"
   ]
  },
  {
   "cell_type": "code",
   "execution_count": 6,
   "metadata": {},
   "outputs": [],
   "source": [
    "train = pd.read_csv(f\"{input_folder}/train.csv\")\n",
    "test = pd.read_csv(f\"{input_folder}/test.csv\")\n",
    "\n",
    "seed = 2020"
   ]
  },
  {
   "cell_type": "code",
   "execution_count": 7,
   "metadata": {},
   "outputs": [],
   "source": [
    "if eda:\n",
    "    trainprofile = train.profile_report(title='Train Profiling Report', plot={'histogram': {'bins': 8}})\n",
    "    trainprofile.to_file(output_file=f\"{profiles_folder}/train_profiling.html\")\n",
    "    testprofile = test.profile_report(title='Test Profiling Report', plot={'histogram': {'bins': 8}})\n",
    "    testprofile.to_file(output_file=f\"{profiles_folder}/test_profiling.html\")"
   ]
  },
  {
   "cell_type": "code",
   "execution_count": 141,
   "metadata": {},
   "outputs": [
    {
     "data": {
      "text/plain": [
       "Index(['Guest_ID', 'Gender', 'Frequent_Traveler', 'Age', 'Type',\n",
       "       'Flight_Class', 'Points', 'Room', 'Check-in/Check-out', 'F&B',\n",
       "       'Location', 'Wifi', 'Entertainment', 'Gym', 'Spa', 'Staff', 'Pool',\n",
       "       'Baggage_Handling', 'Reception', 'Cleanliness', 'Online_Booking',\n",
       "       'Deposit_Kept', 'Time_Room_Service', 'Repeater'],\n",
       "      dtype='object')"
      ]
     },
     "execution_count": 141,
     "metadata": {},
     "output_type": "execute_result"
    }
   ],
   "source": [
    "train.columns"
   ]
  },
  {
   "cell_type": "code",
   "execution_count": 142,
   "metadata": {
    "scrolled": false
   },
   "outputs": [],
   "source": [
    "if exploration:\n",
    "    for col in [c for c in train.columns if c not in [\"Guest_ID\", \"Gender\", ]]:\n",
    "        print(col)\n",
    "        print(train[col].value_counts(), \"\\n\")"
   ]
  },
  {
   "cell_type": "code",
   "execution_count": 143,
   "metadata": {},
   "outputs": [],
   "source": [
    "def EncodeCategoricFeats(df_train, df_test):\n",
    "    features = [\"Gender\", \"Type\", \"Flight_Class\"]\n",
    "    df_combined = pd.concat([df_train[features], df_test[features]])\n",
    "    \n",
    "    for feature in features:\n",
    "        le = LabelEncoder()\n",
    "        le = le.fit(df_combined[feature])\n",
    "        df_train[feature] = le.transform(df_train[feature])\n",
    "        df_test[feature] = le.transform(df_test[feature])\n",
    "    return df_train, df_test"
   ]
  },
  {
   "cell_type": "code",
   "execution_count": null,
   "metadata": {},
   "outputs": [],
   "source": [
    "def MapFlightClass(df):\n",
    "    flightclass_map = {\"Eco\": 0, \"Eco Plus\": 1, \"Business\": 2}\n",
    "    df[\"Flight_Class\"].map(flightclass_map)\n",
    "    return df\n",
    "\n",
    "\n",
    "def transform_df(df):\n",
    "    df = MapFlightClass(df)\n",
    "\n",
    "    return df    "
   ]
  },
  {
   "cell_type": "code",
   "execution_count": null,
   "metadata": {},
   "outputs": [],
   "source": [
    "train, test = encode_features(train, test)\n",
    "train = transform_df(train)\n",
    "test = transform_df(test)"
   ]
  },
  {
   "cell_type": "code",
   "execution_count": null,
   "metadata": {},
   "outputs": [],
   "source": [
    "X = train.drop(['Guest_ID', 'Repeater'], axis=1)\n",
    "y = train['Repeater']\n",
    "colunas = X.columns\n",
    "scaler = StandardScaler()\n",
    "scaler.fit(X)"
   ]
  },
  {
   "cell_type": "code",
   "execution_count": null,
   "metadata": {},
   "outputs": [],
   "source": [
    "X = pd.DataFrame(scaler.transform(X), columns=colunas)"
   ]
  },
  {
   "cell_type": "code",
   "execution_count": null,
   "metadata": {},
   "outputs": [],
   "source": [
    "X_train, X_test, y_train, y_test = train_test_split(X, y, test_size=0.3, random_state=seed, stratify=y)"
   ]
  },
  {
   "cell_type": "code",
   "execution_count": 145,
   "metadata": {},
   "outputs": [],
   "source": [
    "clf = MLPClassifier(\n",
    "    learning_rate = \"adaptive\",\n",
    "    max_iter = 12000,\n",
    "    random_state = seed,\n",
    "#     tol = 1e-6,\n",
    "#     early_stopping = True,\n",
    "#     n_iter_no_change = 100,\n",
    "#     validation_fraction = 0.3,\n",
    "    warm_start = True\n",
    ")\n",
    "\n",
    "\n",
    "# # # Choose some parameter combinations to try\n",
    "# # parameters = {'learning_rate': [4, 5, 6, 7, 8, 9, 10],\n",
    "# #               'max_features': ['log2', 'sqrt', 'auto'],\n",
    "# #               'criterion': ['entropy', 'gini'],\n",
    "# #               'max_depth': [3, 4, 5, 6, 7, 8, 9, 10, 11, 12],\n",
    "# #               'min_samples_split': [2, 3, 4, 5, 6, 7, 8],\n",
    "# #               'min_samples_leaf': [1, 2, 3, 4, 5, 6, 7, 8],\n",
    "# #               'random_state': [seed]\n",
    "# #              }\n",
    "\n",
    "# # Type of scoring used to compare parameter combinations\n",
    "# acc_scorer = make_scorer(accuracy_score)\n",
    "\n",
    "# # Run the grid search\n",
    "# grid_obj = GridSearchCV(clf, parameters, scoring=acc_scorer, cv=5)\n",
    "# grid_obj = grid_obj.fit(X_train, y_train)\n",
    "\n",
    "# # Set the clf to the best combination of parameters\n",
    "# clf = grid_obj.best_estimator_\n",
    "\n",
    "# # Fit the best algorithm to the data. \n",
    "# clf.fit(X_train, y_train)"
   ]
  },
  {
   "cell_type": "code",
   "execution_count": 88,
   "metadata": {},
   "outputs": [],
   "source": [
    "# test_preds = clf.predict(X_test)\n",
    "# print(accuracy_score(y_test, test_preds))"
   ]
  },
  {
   "cell_type": "code",
   "execution_count": 89,
   "metadata": {},
   "outputs": [
    {
     "name": "stdout",
     "output_type": "stream",
     "text": [
      "# of Folds: 10000\n",
      "Mean Accuracy: 0.99969010989011\n",
      "Wall time: 5min 55s\n"
     ]
    }
   ],
   "source": [
    "%%time\n",
    "\n",
    "# from sklearn.model_selection import RepeatedKFold\n",
    "from sklearn.model_selection import StratifiedShuffleSplit\n",
    "\n",
    "def run_kfold(clf):\n",
    "    kf = StratifiedShuffleSplit(n_splits=10000, test_size=0.3, random_state=seed)\n",
    "#     kf = RepeatedKFold(n_splits=5, n_repeats=10, random_state=seed)\n",
    "    outcomes = []\n",
    "    fold = 0\n",
    "    for train_indices, test_indices in kf.split(X, y):\n",
    "        fold += 1\n",
    "        X_train, X_test = X.values[train_indices], X.values[test_indices]\n",
    "        y_train, y_test = y.values[train_indices], y.values[test_indices]\n",
    "        clf.fit(X_train, y_train)\n",
    "        predictions = clf.predict(X_test)\n",
    "        accuracy = accuracy_score(y_test, predictions)\n",
    "        outcomes.append(accuracy)\n",
    "#         print(f\"Fold {fold} accuracy: {accuracy}\")\n",
    "    mean_outcome = np.mean(outcomes)\n",
    "    print(f\"# of Folds: {fold}\")\n",
    "    print(f\"Mean Accuracy: {mean_outcome}\") \n",
    "\n",
    "run_kfold(clf)"
   ]
  },
  {
   "cell_type": "raw",
   "metadata": {},
   "source": [
    "    Best NN score\n",
    "# of Folds: 10000\n",
    "Mean Accuracy: 0.99969010989011"
   ]
  },
  {
   "cell_type": "code",
   "execution_count": 137,
   "metadata": {},
   "outputs": [
    {
     "name": "stdout",
     "output_type": "stream",
     "text": [
      "3\n"
     ]
    }
   ],
   "source": [
    "def find_version():\n",
    "    version = 1\n",
    "    for file in os.listdir(\"results\"):\n",
    "        if file.split(\"_\")[1].startswith(\"version\"):\n",
    "            if int(file.split(\"_\")[1].split(\"n\")[1]) > version:\n",
    "                version = int(file.split(\"_\")[1].split(\"n\")[1])\n",
    "    return version + 1"
   ]
  },
  {
   "cell_type": "code",
   "execution_count": 91,
   "metadata": {},
   "outputs": [
    {
     "data": {
      "text/html": [
       "<div>\n",
       "<style scoped>\n",
       "    .dataframe tbody tr th:only-of-type {\n",
       "        vertical-align: middle;\n",
       "    }\n",
       "\n",
       "    .dataframe tbody tr th {\n",
       "        vertical-align: top;\n",
       "    }\n",
       "\n",
       "    .dataframe thead th {\n",
       "        text-align: right;\n",
       "    }\n",
       "</style>\n",
       "<table border=\"1\" class=\"dataframe\">\n",
       "  <thead>\n",
       "    <tr style=\"text-align: right;\">\n",
       "      <th></th>\n",
       "      <th>Guest_ID</th>\n",
       "      <th>Repeater</th>\n",
       "    </tr>\n",
       "  </thead>\n",
       "  <tbody>\n",
       "    <tr>\n",
       "      <td>0</td>\n",
       "      <td>19847</td>\n",
       "      <td>0</td>\n",
       "    </tr>\n",
       "    <tr>\n",
       "      <td>1</td>\n",
       "      <td>12433</td>\n",
       "      <td>1</td>\n",
       "    </tr>\n",
       "    <tr>\n",
       "      <td>2</td>\n",
       "      <td>10273</td>\n",
       "      <td>1</td>\n",
       "    </tr>\n",
       "    <tr>\n",
       "      <td>3</td>\n",
       "      <td>12457</td>\n",
       "      <td>0</td>\n",
       "    </tr>\n",
       "    <tr>\n",
       "      <td>4</td>\n",
       "      <td>22903</td>\n",
       "      <td>0</td>\n",
       "    </tr>\n",
       "  </tbody>\n",
       "</table>\n",
       "</div>"
      ],
      "text/plain": [
       "   Guest_ID  Repeater\n",
       "0     19847         0\n",
       "1     12433         1\n",
       "2     10273         1\n",
       "3     12457         0\n",
       "4     22903         0"
      ]
     },
     "execution_count": 91,
     "metadata": {},
     "output_type": "execute_result"
    }
   ],
   "source": [
    "ids = test[\"Guest_ID\"]\n",
    "testdata = pd.DataFrame(scaler.transform(test.drop([\"Guest_ID\"], axis=1)), columns=colunas)\n",
    "preds = clf.predict(testdata)\n",
    "\n",
    "output = pd.DataFrame({'Guest_ID': ids, 'Repeater': preds})\n",
    "\n",
    "now = str(datetime.today())[:19].replace(\" \", \"_\").replace(\":\",\"-\")\n",
    "output.to_csv(f'{output_folder}/m20180428_version{find_version()}.csv', index = False)\n",
    "\n",
    "output.head()"
   ]
  }
 ],
 "metadata": {
  "kernelspec": {
   "display_name": "Python 3",
   "language": "python",
   "name": "python3"
  },
  "language_info": {
   "codemirror_mode": {
    "name": "ipython",
    "version": 3
   },
   "file_extension": ".py",
   "mimetype": "text/x-python",
   "name": "python",
   "nbconvert_exporter": "python",
   "pygments_lexer": "ipython3",
   "version": "3.7.4"
  }
 },
 "nbformat": 4,
 "nbformat_minor": 2
}
